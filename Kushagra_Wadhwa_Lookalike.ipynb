{
  "metadata": {
    "kernelspec": {
      "name": "python",
      "display_name": "Python (Pyodide)",
      "language": "python"
    },
    "language_info": {
      "codemirror_mode": {
        "name": "python",
        "version": 3
      },
      "file_extension": ".py",
      "mimetype": "text/x-python",
      "name": "python",
      "nbconvert_exporter": "python",
      "pygments_lexer": "ipython3",
      "version": "3.8"
    },
    "colab": {
      "provenance": []
    }
  },
  "nbformat_minor": 5,
  "nbformat": 4,
  "cells": [
    {
      "id": "cf3c97df-0301-4d55-ab26-c0d2e0016077",
      "cell_type": "markdown",
      "source": [
        "This model finds similar customers based on their behavior and characteristics just like Netflix's recommendedation system we can say but it is for customers and not for movies!"
      ],
      "metadata": {
        "id": "cf3c97df-0301-4d55-ab26-c0d2e0016077"
      }
    },
    {
      "id": "49767056-ef61-4637-af27-f0695ae16b66",
      "cell_type": "code",
      "source": [
        "import pandas as pd\n",
        "import numpy as np\n",
        "from sklearn.preprocessing import StandardScaler, OneHotEncoder\n",
        "from sklearn.metrics.pairwise import cosine_similarity"
      ],
      "metadata": {
        "trusted": true,
        "id": "49767056-ef61-4637-af27-f0695ae16b66"
      },
      "outputs": [],
      "execution_count": 1
    },
    {
      "id": "3d520588-4ee4-4b7f-99bd-a705394c7618",
      "cell_type": "markdown",
      "source": [
        "First, we combine customer information with their shopping history to get a complete picture:\n",
        "\n",
        "We calculate total spending for each customer\n",
        "\n",
        "We count how many purchases they've made (purchase frequency)\n",
        "\n",
        "We take their region information"
      ],
      "metadata": {
        "id": "3d520588-4ee4-4b7f-99bd-a705394c7618"
      }
    },
    {
      "id": "568b17e1-954c-4d5d-8a1d-36e30e69ae9e",
      "cell_type": "code",
      "source": [
        "def preprocess_data(customers_df, transactions_df):\n",
        "    customer_metrics = transactions_df.groupby('CustomerID').agg({\n",
        "        'TotalValue': ['sum', 'count']\n",
        "    }).reset_index()\n",
        "    customer_metrics.columns = ['CustomerID', 'TotalSpending', 'PurchaseFrequency']\n",
        "\n",
        "    return pd.merge(customers_df, customer_metrics, on='CustomerID', how='inner')"
      ],
      "metadata": {
        "trusted": true,
        "id": "568b17e1-954c-4d5d-8a1d-36e30e69ae9e"
      },
      "outputs": [],
      "execution_count": 2
    },
    {
      "id": "386e311c-3064-4c82-98ba-8534a5b41dcd",
      "cell_type": "markdown",
      "source": [
        "Creating a feature matrix from the preprocessed data that returns scaled features and customer IDs."
      ],
      "metadata": {
        "id": "386e311c-3064-4c82-98ba-8534a5b41dcd"
      }
    },
    {
      "id": "7a3cbb4d-9c64-4bd5-9cfc-971930c4b3f8",
      "cell_type": "code",
      "source": [
        "def create_feature_matrix(data):\n",
        "    #OHE on region.(Categorical column)\n",
        "    encoder = OneHotEncoder(sparse_output=False)\n",
        "    encoded_features = encoder.fit_transform(data[['Region']])\n",
        "    encoded_df = pd.DataFrame(\n",
        "        encoded_features,\n",
        "        columns=encoder.get_feature_names_out(['Region'])\n",
        "    )\n",
        "    #Scaling numerical features\n",
        "    scaler = StandardScaler()\n",
        "    numerical_features = ['TotalSpending', 'PurchaseFrequency']\n",
        "    scaled_numerical = scaler.fit_transform(data[numerical_features])\n",
        "    scaled_df = pd.DataFrame(\n",
        "        scaled_numerical,\n",
        "        columns=numerical_features\n",
        "    )\n",
        "    return pd.concat([scaled_df, encoded_df], axis=1)"
      ],
      "metadata": {
        "trusted": true,
        "id": "7a3cbb4d-9c64-4bd5-9cfc-971930c4b3f8"
      },
      "outputs": [],
      "execution_count": 3
    },
    {
      "id": "36dd2095-316c-4027-bd24-cc0603205a59",
      "cell_type": "markdown",
      "source": [
        "We use cosine similarity to find similar customers:\n",
        "Think of each customer as a point in space, the closer two points are, the more similar those customers are to each other based on their features.We calculate how close every customer is to every other customer using \"Cosine Similarity Feature\"\n",
        "\n",
        "Technically, cosine similarity calculates the angle between the customer vectors, smaller the angle, more related they are."
      ],
      "metadata": {
        "id": "36dd2095-316c-4027-bd24-cc0603205a59"
      }
    },
    {
      "id": "0c84314b-2080-40c1-b809-500c72cde83a",
      "cell_type": "code",
      "source": [
        "def get_similar_customers(similarity_matrix, customer_ids, target_idx, n_recommendations=3):\n",
        "\n",
        "    similar_indices = np.argsort(-similarity_matrix[target_idx])[1:n_recommendations + 1]\n",
        "    return [\n",
        "        (customer_ids[idx], similarity_matrix[target_idx][idx])\n",
        "        for idx in similar_indices\n",
        "    ]"
      ],
      "metadata": {
        "trusted": true,
        "id": "0c84314b-2080-40c1-b809-500c72cde83a"
      },
      "outputs": [],
      "execution_count": 4
    },
    {
      "id": "979595c0-1394-4c21-acd1-7dc3244b46f3",
      "cell_type": "markdown",
      "source": [
        "For each customer, We rank all other customers by similarity score\n",
        "\n",
        "Pick the top 3 most similar customers and record their IDs and how similar they are to each other."
      ],
      "metadata": {
        "id": "979595c0-1394-4c21-acd1-7dc3244b46f3"
      }
    },
    {
      "id": "1ca5f5a1-697a-4776-b854-7ffbdfc88c39",
      "cell_type": "code",
      "source": [
        "def generate_lookalike_recommendations(customers_path, transactions_path, output_path, n_customers=20):\n",
        "    customers = pd.read_csv(customers_path)\n",
        "    transactions = pd.read_csv(transactions_path)\n",
        "\n",
        "    # Preprocess data, create feature matrix, calculate similarity matrix\n",
        "    processed_data = preprocess_data(customers, transactions)\n",
        "    feature_matrix = create_feature_matrix(processed_data)\n",
        "    similarity_matrix = cosine_similarity(feature_matrix)\n",
        "\n",
        "    # Generate recommendations for first n customers\n",
        "    customer_ids = processed_data['CustomerID'].values\n",
        "    lookalike_map = {}\n",
        "\n",
        "    for idx, customer_id in enumerate(customer_ids[:n_customers]):\n",
        "        similar_customers = get_similar_customers(\n",
        "            similarity_matrix,\n",
        "            customer_ids,\n",
        "            idx\n",
        "        )\n",
        "        lookalike_map[customer_id] = similar_customers\n",
        "\n",
        "    results_df = pd.DataFrame({\n",
        "        'CustomerID': lookalike_map.keys(),\n",
        "        'LookalikeCustomers': [\n",
        "            ', '.join([f\"{cid} (similarity: {score:.3f})\"\n",
        "                      for cid, score in customers])\n",
        "            for customers in lookalike_map.values()\n",
        "        ]\n",
        "    })\n",
        "    #Storing in csv\n",
        "    results_df.to_csv(output_path, index=False)\n",
        "    print(f\"Lookalike recommendations saved to {output_path}\")\n",
        "\n",
        "    return lookalike_map"
      ],
      "metadata": {
        "trusted": true,
        "id": "1ca5f5a1-697a-4776-b854-7ffbdfc88c39"
      },
      "outputs": [],
      "execution_count": 5
    },
    {
      "id": "7ccb8c6c-1c81-4803-9410-ce0560db3cb7",
      "cell_type": "markdown",
      "source": [
        "We create a simple report showing:\n",
        "\n",
        "Each customer ID -> Their 3 most similar customers -> How similar they are (as a score between 0 and 1, where 1 is identical)"
      ],
      "metadata": {
        "id": "7ccb8c6c-1c81-4803-9410-ce0560db3cb7"
      }
    },
    {
      "id": "43d83d68-5e72-4fd4-b677-e5b6ec72ac8c",
      "cell_type": "code",
      "source": [
        "recommendations = generate_lookalike_recommendations(\n",
        "    customers_path=\"Customers.csv\",\n",
        "    transactions_path=\"Transactions.csv\",\n",
        "    output_path=\"Lookalike.csv\"\n",
        ")\n",
        "\n",
        "for customer_id, similar_customers in list(recommendations.items())[:3]:\n",
        "    print(f\"\\nCustomer {customer_id} similar customers:\")\n",
        "    for similar_id, score in similar_customers:\n",
        "        print(f\"  {similar_id}: similarity = {score:.3f}\")"
      ],
      "metadata": {
        "trusted": true,
        "colab": {
          "base_uri": "https://localhost:8080/"
        },
        "id": "43d83d68-5e72-4fd4-b677-e5b6ec72ac8c",
        "outputId": "a8331db2-3f78-4a55-b4c6-4d9b07f4a682"
      },
      "outputs": [
        {
          "output_type": "stream",
          "name": "stdout",
          "text": [
            "Lookalike recommendations saved to /content/Lookalike.csv\n",
            "\n",
            "Customer C0001 similar customers:\n",
            "  C0137: similarity = 1.000\n",
            "  C0152: similarity = 1.000\n",
            "  C0107: similarity = 0.989\n",
            "\n",
            "Customer C0002 similar customers:\n",
            "  C0142: similarity = 0.992\n",
            "  C0177: similarity = 0.974\n",
            "  C0043: similarity = 0.970\n",
            "\n",
            "Customer C0003 similar customers:\n",
            "  C0133: similarity = 0.997\n",
            "  C0052: similarity = 0.995\n",
            "  C0192: similarity = 0.968\n"
          ]
        }
      ],
      "execution_count": 7
    },
    {
      "id": "494e28a5-f90c-4e69-837e-66be4eb28288",
      "cell_type": "markdown",
      "source": [
        "Conclusion:- This model helps businesses in->\n",
        "\n",
        "Target marketing to similar customers\n",
        ",Find potential customers who might like the same products\n",
        ",Understand customer segments better, Make personalized recommendations\n"
      ],
      "metadata": {
        "id": "494e28a5-f90c-4e69-837e-66be4eb28288"
      }
    }
  ]
}